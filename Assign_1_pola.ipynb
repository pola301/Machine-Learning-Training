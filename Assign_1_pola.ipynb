{
  "nbformat": 4,
  "nbformat_minor": 0,
  "metadata": {
    "colab": {
      "provenance": [],
      "collapsed_sections": [],
      "include_colab_link": true
    },
    "kernelspec": {
      "name": "python3",
      "display_name": "Python 3"
    },
    "language_info": {
      "name": "python"
    },
    "accelerator": "GPU",
    "gpuClass": "standard"
  },
  "cells": [
    {
      "cell_type": "markdown",
      "metadata": {
        "id": "view-in-github",
        "colab_type": "text"
      },
      "source": [
        "<a href=\"https://colab.research.google.com/github/pola301/Machine-Learning-Training/blob/main/Assign_1_pola.ipynb\" target=\"_parent\"><img src=\"https://colab.research.google.com/assets/colab-badge.svg\" alt=\"Open In Colab\"/></a>"
      ]
    },
    {
      "cell_type": "code",
      "execution_count": 33,
      "metadata": {
        "id": "k3POcB7w0lNd"
      },
      "outputs": [],
      "source": [
        "import pandas as pd\n",
        "import matplotlib.pyplot as plt\n",
        "from sklearn import metrics"
      ]
    },
    {
      "cell_type": "code",
      "source": [
        "dataset = pd.read_csv(\"/content/sample_data/gas sensor 12.csv\")\n",
        "dataset.head(5)"
      ],
      "metadata": {
        "id": "FPXuxbVY0y_x",
        "colab": {
          "base_uri": "https://localhost:8080/",
          "height": 206
        },
        "outputId": "2ae700fa-887a-4475-cb54-2a098a51b494"
      },
      "execution_count": 52,
      "outputs": [
        {
          "output_type": "execute_result",
          "data": {
            "text/plain": [
              "   Unnamed: 0   id      time       R1       R2       R3       R4       R5  \\\n",
              "0         1.0  0.0 -0.999750   0.2231   0.6365   1.1493   0.8483   1.2534   \n",
              "1         2.0  0.0 -0.999472   2.1314   5.3552   9.7569   6.3188   9.4472   \n",
              "2         3.0  0.0 -0.999194  10.5318  22.5612  37.2635  17.7848  33.0704   \n",
              "3         4.0  0.0 -0.998916  29.5749  49.5111  65.6318  26.1447  58.3847   \n",
              "4         5.0  0.0 -0.998627  49.5111  67.0368  77.8317  27.9625  71.7732   \n",
              "\n",
              "        R6      R13      R14  Temperature  Humidity    0  \n",
              "0   1.4449   6.5806   8.6385      23.7184   49.7534  1.0  \n",
              "1  10.5769  31.7505  41.9167      26.6200   55.8400  1.0  \n",
              "2  36.3160  47.8255  62.9436      26.6200   55.8400  1.0  \n",
              "3  67.5130  50.3730  64.8363      26.6200   55.8400  1.0  \n",
              "4  79.9474  52.8453  66.8445      26.6200   55.8400  1.0  "
            ],
            "text/html": [
              "\n",
              "  <div id=\"df-67580c6c-1b3d-4b2e-a17b-6555a741fc30\">\n",
              "    <div class=\"colab-df-container\">\n",
              "      <div>\n",
              "<style scoped>\n",
              "    .dataframe tbody tr th:only-of-type {\n",
              "        vertical-align: middle;\n",
              "    }\n",
              "\n",
              "    .dataframe tbody tr th {\n",
              "        vertical-align: top;\n",
              "    }\n",
              "\n",
              "    .dataframe thead th {\n",
              "        text-align: right;\n",
              "    }\n",
              "</style>\n",
              "<table border=\"1\" class=\"dataframe\">\n",
              "  <thead>\n",
              "    <tr style=\"text-align: right;\">\n",
              "      <th></th>\n",
              "      <th>Unnamed: 0</th>\n",
              "      <th>id</th>\n",
              "      <th>time</th>\n",
              "      <th>R1</th>\n",
              "      <th>R2</th>\n",
              "      <th>R3</th>\n",
              "      <th>R4</th>\n",
              "      <th>R5</th>\n",
              "      <th>R6</th>\n",
              "      <th>R13</th>\n",
              "      <th>R14</th>\n",
              "      <th>Temperature</th>\n",
              "      <th>Humidity</th>\n",
              "      <th>0</th>\n",
              "    </tr>\n",
              "  </thead>\n",
              "  <tbody>\n",
              "    <tr>\n",
              "      <th>0</th>\n",
              "      <td>1.0</td>\n",
              "      <td>0.0</td>\n",
              "      <td>-0.999750</td>\n",
              "      <td>0.2231</td>\n",
              "      <td>0.6365</td>\n",
              "      <td>1.1493</td>\n",
              "      <td>0.8483</td>\n",
              "      <td>1.2534</td>\n",
              "      <td>1.4449</td>\n",
              "      <td>6.5806</td>\n",
              "      <td>8.6385</td>\n",
              "      <td>23.7184</td>\n",
              "      <td>49.7534</td>\n",
              "      <td>1.0</td>\n",
              "    </tr>\n",
              "    <tr>\n",
              "      <th>1</th>\n",
              "      <td>2.0</td>\n",
              "      <td>0.0</td>\n",
              "      <td>-0.999472</td>\n",
              "      <td>2.1314</td>\n",
              "      <td>5.3552</td>\n",
              "      <td>9.7569</td>\n",
              "      <td>6.3188</td>\n",
              "      <td>9.4472</td>\n",
              "      <td>10.5769</td>\n",
              "      <td>31.7505</td>\n",
              "      <td>41.9167</td>\n",
              "      <td>26.6200</td>\n",
              "      <td>55.8400</td>\n",
              "      <td>1.0</td>\n",
              "    </tr>\n",
              "    <tr>\n",
              "      <th>2</th>\n",
              "      <td>3.0</td>\n",
              "      <td>0.0</td>\n",
              "      <td>-0.999194</td>\n",
              "      <td>10.5318</td>\n",
              "      <td>22.5612</td>\n",
              "      <td>37.2635</td>\n",
              "      <td>17.7848</td>\n",
              "      <td>33.0704</td>\n",
              "      <td>36.3160</td>\n",
              "      <td>47.8255</td>\n",
              "      <td>62.9436</td>\n",
              "      <td>26.6200</td>\n",
              "      <td>55.8400</td>\n",
              "      <td>1.0</td>\n",
              "    </tr>\n",
              "    <tr>\n",
              "      <th>3</th>\n",
              "      <td>4.0</td>\n",
              "      <td>0.0</td>\n",
              "      <td>-0.998916</td>\n",
              "      <td>29.5749</td>\n",
              "      <td>49.5111</td>\n",
              "      <td>65.6318</td>\n",
              "      <td>26.1447</td>\n",
              "      <td>58.3847</td>\n",
              "      <td>67.5130</td>\n",
              "      <td>50.3730</td>\n",
              "      <td>64.8363</td>\n",
              "      <td>26.6200</td>\n",
              "      <td>55.8400</td>\n",
              "      <td>1.0</td>\n",
              "    </tr>\n",
              "    <tr>\n",
              "      <th>4</th>\n",
              "      <td>5.0</td>\n",
              "      <td>0.0</td>\n",
              "      <td>-0.998627</td>\n",
              "      <td>49.5111</td>\n",
              "      <td>67.0368</td>\n",
              "      <td>77.8317</td>\n",
              "      <td>27.9625</td>\n",
              "      <td>71.7732</td>\n",
              "      <td>79.9474</td>\n",
              "      <td>52.8453</td>\n",
              "      <td>66.8445</td>\n",
              "      <td>26.6200</td>\n",
              "      <td>55.8400</td>\n",
              "      <td>1.0</td>\n",
              "    </tr>\n",
              "  </tbody>\n",
              "</table>\n",
              "</div>\n",
              "      <button class=\"colab-df-convert\" onclick=\"convertToInteractive('df-67580c6c-1b3d-4b2e-a17b-6555a741fc30')\"\n",
              "              title=\"Convert this dataframe to an interactive table.\"\n",
              "              style=\"display:none;\">\n",
              "        \n",
              "  <svg xmlns=\"http://www.w3.org/2000/svg\" height=\"24px\"viewBox=\"0 0 24 24\"\n",
              "       width=\"24px\">\n",
              "    <path d=\"M0 0h24v24H0V0z\" fill=\"none\"/>\n",
              "    <path d=\"M18.56 5.44l.94 2.06.94-2.06 2.06-.94-2.06-.94-.94-2.06-.94 2.06-2.06.94zm-11 1L8.5 8.5l.94-2.06 2.06-.94-2.06-.94L8.5 2.5l-.94 2.06-2.06.94zm10 10l.94 2.06.94-2.06 2.06-.94-2.06-.94-.94-2.06-.94 2.06-2.06.94z\"/><path d=\"M17.41 7.96l-1.37-1.37c-.4-.4-.92-.59-1.43-.59-.52 0-1.04.2-1.43.59L10.3 9.45l-7.72 7.72c-.78.78-.78 2.05 0 2.83L4 21.41c.39.39.9.59 1.41.59.51 0 1.02-.2 1.41-.59l7.78-7.78 2.81-2.81c.8-.78.8-2.07 0-2.86zM5.41 20L4 18.59l7.72-7.72 1.47 1.35L5.41 20z\"/>\n",
              "  </svg>\n",
              "      </button>\n",
              "      \n",
              "  <style>\n",
              "    .colab-df-container {\n",
              "      display:flex;\n",
              "      flex-wrap:wrap;\n",
              "      gap: 12px;\n",
              "    }\n",
              "\n",
              "    .colab-df-convert {\n",
              "      background-color: #E8F0FE;\n",
              "      border: none;\n",
              "      border-radius: 50%;\n",
              "      cursor: pointer;\n",
              "      display: none;\n",
              "      fill: #1967D2;\n",
              "      height: 32px;\n",
              "      padding: 0 0 0 0;\n",
              "      width: 32px;\n",
              "    }\n",
              "\n",
              "    .colab-df-convert:hover {\n",
              "      background-color: #E2EBFA;\n",
              "      box-shadow: 0px 1px 2px rgba(60, 64, 67, 0.3), 0px 1px 3px 1px rgba(60, 64, 67, 0.15);\n",
              "      fill: #174EA6;\n",
              "    }\n",
              "\n",
              "    [theme=dark] .colab-df-convert {\n",
              "      background-color: #3B4455;\n",
              "      fill: #D2E3FC;\n",
              "    }\n",
              "\n",
              "    [theme=dark] .colab-df-convert:hover {\n",
              "      background-color: #434B5C;\n",
              "      box-shadow: 0px 1px 3px 1px rgba(0, 0, 0, 0.15);\n",
              "      filter: drop-shadow(0px 1px 2px rgba(0, 0, 0, 0.3));\n",
              "      fill: #FFFFFF;\n",
              "    }\n",
              "  </style>\n",
              "\n",
              "      <script>\n",
              "        const buttonEl =\n",
              "          document.querySelector('#df-67580c6c-1b3d-4b2e-a17b-6555a741fc30 button.colab-df-convert');\n",
              "        buttonEl.style.display =\n",
              "          google.colab.kernel.accessAllowed ? 'block' : 'none';\n",
              "\n",
              "        async function convertToInteractive(key) {\n",
              "          const element = document.querySelector('#df-67580c6c-1b3d-4b2e-a17b-6555a741fc30');\n",
              "          const dataTable =\n",
              "            await google.colab.kernel.invokeFunction('convertToInteractive',\n",
              "                                                     [key], {});\n",
              "          if (!dataTable) return;\n",
              "\n",
              "          const docLinkHtml = 'Like what you see? Visit the ' +\n",
              "            '<a target=\"_blank\" href=https://colab.research.google.com/notebooks/data_table.ipynb>data table notebook</a>'\n",
              "            + ' to learn more about interactive tables.';\n",
              "          element.innerHTML = '';\n",
              "          dataTable['output_type'] = 'display_data';\n",
              "          await google.colab.output.renderOutput(dataTable, element);\n",
              "          const docLink = document.createElement('div');\n",
              "          docLink.innerHTML = docLinkHtml;\n",
              "          element.appendChild(docLink);\n",
              "        }\n",
              "      </script>\n",
              "    </div>\n",
              "  </div>\n",
              "  "
            ]
          },
          "metadata": {},
          "execution_count": 52
        }
      ]
    },
    {
      "cell_type": "code",
      "source": [
        "dataset=dataset.dropna()"
      ],
      "metadata": {
        "id": "YfsnJFDbise8"
      },
      "execution_count": 53,
      "outputs": []
    },
    {
      "cell_type": "code",
      "source": [
        "missVal = dataset.isnull().sum()\n",
        "missVal"
      ],
      "metadata": {
        "id": "QpKdLbBQixTz",
        "colab": {
          "base_uri": "https://localhost:8080/"
        },
        "outputId": "d7467a9d-e9ef-4bab-9a95-167aa7f2ec63"
      },
      "execution_count": 54,
      "outputs": [
        {
          "output_type": "execute_result",
          "data": {
            "text/plain": [
              "Unnamed: 0     0\n",
              "id             0\n",
              "time           0\n",
              "R1             0\n",
              "R2             0\n",
              "R3             0\n",
              "R4             0\n",
              "R5             0\n",
              "R6             0\n",
              "R13            0\n",
              "R14            0\n",
              "Temperature    0\n",
              "Humidity       0\n",
              "0              0\n",
              "dtype: int64"
            ]
          },
          "metadata": {},
          "execution_count": 54
        }
      ]
    },
    {
      "cell_type": "code",
      "source": [
        "xL = dataset.iloc[:,2:12]\n",
        "yR= dataset.iloc[:,13:14]"
      ],
      "metadata": {
        "id": "zFKjy5m-1DzC"
      },
      "execution_count": 55,
      "outputs": []
    },
    {
      "cell_type": "code",
      "source": [
        "from sklearn.model_selection import train_test_split\n",
        "x_train,x_test,y_train,y_test = train_test_split(xL,yR,test_size=0.3)\n",
        "x_valid_test,x_test_test,y_valid_test,y_test_test = train_test_split(x_test,y_test , test_size=0.5,)"
      ],
      "metadata": {
        "id": "gDRwLXXW2BSY"
      },
      "execution_count": 56,
      "outputs": []
    },
    {
      "cell_type": "markdown",
      "source": [
        "#KNN"
      ],
      "metadata": {
        "id": "zuLFGKxH4gjw"
      }
    },
    {
      "cell_type": "code",
      "source": [
        "from sklearn.neighbors import KNeighborsClassifier\n",
        "algoKNN = KNeighborsClassifier(n_neighbors =5)\n",
        "algoKNN.fit(x_train,y_train)"
      ],
      "metadata": {
        "id": "Nv5P62u24mtT",
        "colab": {
          "base_uri": "https://localhost:8080/"
        },
        "outputId": "e55cddfc-2c20-4a40-fb50-54eedb18068e"
      },
      "execution_count": 58,
      "outputs": [
        {
          "output_type": "stream",
          "name": "stderr",
          "text": [
            "/usr/local/lib/python3.7/dist-packages/sklearn/neighbors/_classification.py:198: DataConversionWarning: A column-vector y was passed when a 1d array was expected. Please change the shape of y to (n_samples,), for example using ravel().\n",
            "  return self._fit(X, y)\n"
          ]
        },
        {
          "output_type": "execute_result",
          "data": {
            "text/plain": [
              "KNeighborsClassifier()"
            ]
          },
          "metadata": {},
          "execution_count": 58
        }
      ]
    },
    {
      "cell_type": "code",
      "source": [
        "print(algoKNN.score(x_train,y_train)*100)\n",
        "print(algoKNN.score(x_test,y_test)*100)"
      ],
      "metadata": {
        "id": "w_RPP2285f5C",
        "colab": {
          "base_uri": "https://localhost:8080/"
        },
        "outputId": "7e0148e4-3098-4f40-d374-0fa221dfcd31"
      },
      "execution_count": 59,
      "outputs": [
        {
          "output_type": "stream",
          "name": "stdout",
          "text": [
            "88.30669456525312\n",
            "80.38055897795068\n"
          ]
        }
      ]
    },
    {
      "cell_type": "code",
      "source": [
        "print(algoKNN.score(x_valid_test,y_valid_test)*100)\n",
        "print(algoKNN.score(x_test_test,y_test_test)*100)"
      ],
      "metadata": {
        "id": "cV5G8F1n5uH-",
        "colab": {
          "base_uri": "https://localhost:8080/"
        },
        "outputId": "07567cc9-5415-4a48-b41f-12f1c88bb018"
      },
      "execution_count": 60,
      "outputs": [
        {
          "output_type": "stream",
          "name": "stdout",
          "text": [
            "80.49957567763771\n",
            "80.26154349515357\n"
          ]
        }
      ]
    },
    {
      "cell_type": "markdown",
      "source": [
        "#KNN WEIGHTED"
      ],
      "metadata": {
        "id": "0ZdqsNhJ82q6"
      }
    },
    {
      "cell_type": "code",
      "source": [
        "algoWKNN = KNeighborsClassifier(n_neighbors=5,metric='euclidean',weights='distance')\n",
        "algoWKNN.fit(x_train,y_train)"
      ],
      "metadata": {
        "id": "IoPlaX1U86TJ",
        "colab": {
          "base_uri": "https://localhost:8080/"
        },
        "outputId": "49794c6d-8e41-4591-a42d-cc32926a20af"
      },
      "execution_count": 61,
      "outputs": [
        {
          "output_type": "stream",
          "name": "stderr",
          "text": [
            "/usr/local/lib/python3.7/dist-packages/sklearn/neighbors/_classification.py:198: DataConversionWarning: A column-vector y was passed when a 1d array was expected. Please change the shape of y to (n_samples,), for example using ravel().\n",
            "  return self._fit(X, y)\n"
          ]
        },
        {
          "output_type": "execute_result",
          "data": {
            "text/plain": [
              "KNeighborsClassifier(metric='euclidean', weights='distance')"
            ]
          },
          "metadata": {},
          "execution_count": 61
        }
      ]
    },
    {
      "cell_type": "code",
      "source": [
        "print(algoWKNN.score(x_train,y_train)*100)\n",
        "print(algoWKNN.score(x_test,y_test)*100)"
      ],
      "metadata": {
        "id": "Pt2W84Gg9UwH",
        "colab": {
          "base_uri": "https://localhost:8080/"
        },
        "outputId": "af621917-f84c-4e23-eb9d-1bf01ebcd46e"
      },
      "execution_count": 62,
      "outputs": [
        {
          "output_type": "stream",
          "name": "stdout",
          "text": [
            "100.0\n",
            "81.36007402598067\n"
          ]
        }
      ]
    },
    {
      "cell_type": "code",
      "source": [
        "print(algoWKNN.score(x_valid_test,y_valid_test)*100)\n",
        "print(algoWKNN.score(x_test_test,y_test_test)*100)"
      ],
      "metadata": {
        "id": "wAaa5AfF_q0_",
        "colab": {
          "base_uri": "https://localhost:8080/"
        },
        "outputId": "0a9f9537-0b2e-46f8-f5c3-93f811a36981"
      },
      "execution_count": 63,
      "outputs": [
        {
          "output_type": "stream",
          "name": "stdout",
          "text": [
            "81.45762399926383\n",
            "81.2625250501002\n"
          ]
        }
      ]
    },
    {
      "cell_type": "markdown",
      "source": [
        "##Naive Bayes"
      ],
      "metadata": {
        "id": "Mp_w4S0X_5mm"
      }
    },
    {
      "cell_type": "code",
      "source": [
        "from sklearn.naive_bayes import GaussianNB\n",
        "algoNB = GaussianNB()\n",
        "algoNB.fit(x_train,y_train)"
      ],
      "metadata": {
        "id": "DfPWGrelAChu",
        "colab": {
          "base_uri": "https://localhost:8080/"
        },
        "outputId": "282cfc7c-1ae8-4785-e3de-d98b37167812"
      },
      "execution_count": 64,
      "outputs": [
        {
          "output_type": "stream",
          "name": "stderr",
          "text": [
            "/usr/local/lib/python3.7/dist-packages/sklearn/utils/validation.py:993: DataConversionWarning: A column-vector y was passed when a 1d array was expected. Please change the shape of y to (n_samples, ), for example using ravel().\n",
            "  y = column_or_1d(y, warn=True)\n"
          ]
        },
        {
          "output_type": "execute_result",
          "data": {
            "text/plain": [
              "GaussianNB()"
            ]
          },
          "metadata": {},
          "execution_count": 64
        }
      ]
    },
    {
      "cell_type": "code",
      "source": [
        "print(algoNB.score(x_train,y_train)*100)\n",
        "print(algoNB.score(x_test,y_test)*100)"
      ],
      "metadata": {
        "id": "7ZcocXjqAaKR",
        "colab": {
          "base_uri": "https://localhost:8080/"
        },
        "outputId": "1fc2cdc8-f606-415d-c2c0-6b6dbba5e608"
      },
      "execution_count": 65,
      "outputs": [
        {
          "output_type": "stream",
          "name": "stdout",
          "text": [
            "58.97571289287163\n",
            "59.04083187207002\n"
          ]
        }
      ]
    },
    {
      "cell_type": "code",
      "source": [
        "print(algoNB.score(x_valid_test,y_valid_test)*100)\n",
        "print(algoNB.score(x_test_test,y_test_test)*100)"
      ],
      "metadata": {
        "id": "uaVZmAtDAeUf",
        "colab": {
          "base_uri": "https://localhost:8080/"
        },
        "outputId": "1efe11b4-105b-4362-8b1a-2cebc65b27a7"
      },
      "execution_count": 66,
      "outputs": [
        {
          "output_type": "stream",
          "name": "stdout",
          "text": [
            "59.10452644601904\n",
            "58.97713794936812\n"
          ]
        }
      ]
    },
    {
      "cell_type": "code",
      "source": [
        "from sklearn.naive_bayes import BernoulliNB\n",
        "algoBNB = BernoulliNB()\n",
        "algoBNB.fit(x_train,y_train)"
      ],
      "metadata": {
        "id": "7of1kpfpA0te",
        "colab": {
          "base_uri": "https://localhost:8080/"
        },
        "outputId": "38d5e7cd-1b30-42f1-f0ac-d2d689e8e873"
      },
      "execution_count": 68,
      "outputs": [
        {
          "output_type": "stream",
          "name": "stderr",
          "text": [
            "/usr/local/lib/python3.7/dist-packages/sklearn/utils/validation.py:993: DataConversionWarning: A column-vector y was passed when a 1d array was expected. Please change the shape of y to (n_samples, ), for example using ravel().\n",
            "  y = column_or_1d(y, warn=True)\n"
          ]
        },
        {
          "output_type": "execute_result",
          "data": {
            "text/plain": [
              "BernoulliNB()"
            ]
          },
          "metadata": {},
          "execution_count": 68
        }
      ]
    },
    {
      "cell_type": "code",
      "source": [
        "print(algoBNB.score(x_train,y_train)*100)\n",
        "print(algoBNB.score(x_test,y_test)*100)"
      ],
      "metadata": {
        "id": "J9HN1tg2A-be",
        "colab": {
          "base_uri": "https://localhost:8080/"
        },
        "outputId": "092317f8-4346-46e8-f71b-c9f5aa57edfb"
      },
      "execution_count": 69,
      "outputs": [
        {
          "output_type": "stream",
          "name": "stdout",
          "text": [
            "53.18164389864487\n",
            "53.0911470448399\n"
          ]
        }
      ]
    },
    {
      "cell_type": "code",
      "source": [
        "print(algoBNB.score(x_valid_test,y_valid_test)*100)\n",
        "print(algoBNB.score(x_test_test,y_test_test)*100)"
      ],
      "metadata": {
        "id": "FIwGV1v-BBlC",
        "colab": {
          "base_uri": "https://localhost:8080/"
        },
        "outputId": "c68bff93-ac1b-4bf5-9330-84737d0c5c18"
      },
      "execution_count": 70,
      "outputs": [
        {
          "output_type": "stream",
          "name": "stdout",
          "text": [
            "53.11186773411859\n",
            "53.07042656742056\n"
          ]
        }
      ]
    }
  ]
}